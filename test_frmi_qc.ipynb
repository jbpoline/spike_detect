{
 "metadata": {
  "name": "",
  "signature": "sha256:0a5e4997be79a23493491e9b6d9f4fe9dcb1bb53aa6f2f3c6a17f0ef1b9cac33"
 },
 "nbformat": 3,
 "nbformat_minor": 0,
 "worksheets": [
  {
   "cells": [
    {
     "cell_type": "heading",
     "level": 3,
     "metadata": {},
     "source": [
      "Debugging ..."
     ]
    },
    {
     "cell_type": "code",
     "collapsed": false,
     "input": [
      "%run test_qc\n",
      "# %run fmri_qc"
     ],
     "language": "python",
     "metadata": {},
     "outputs": [],
     "prompt_number": 1
    },
    {
     "cell_type": "code",
     "collapsed": false,
     "input": [
      "np.argsort([3,2,1,5,4])"
     ],
     "language": "python",
     "metadata": {},
     "outputs": [
      {
       "metadata": {},
       "output_type": "pyout",
       "prompt_number": 2,
       "text": [
        "array([2, 1, 0, 4, 3])"
       ]
      }
     ],
     "prompt_number": 2
    },
    {
     "cell_type": "code",
     "collapsed": false,
     "input": [
      "sh  = (4,4,5,17)\n",
      "sli = ([3, 4],)\n",
      "tim = (0,)\n"
     ],
     "language": "python",
     "metadata": {},
     "outputs": [],
     "prompt_number": 3
    },
    {
     "cell_type": "code",
     "collapsed": false,
     "input": [
      "test_spike_detector()"
     ],
     "language": "python",
     "metadata": {},
     "outputs": [
      {
       "output_type": "stream",
       "stream": "stdout",
       "text": [
        "\n",
        "sh,sli,tim: \n",
        " (4, 4, 5, 17) ([0, 4], [0, 4]) (0, 16)\n",
        "\n",
        " smd2 ine one detec\n",
        " [[ 26.12048009   1.83638952   2.55144675   2.16020465  24.12266363]\n",
        " [  1.41369951   2.70531662   2.19427001   2.57821799   0.92625615]\n",
        " [  1.28359893   3.06367939   1.38990924   2.10359834   1.91458236]\n",
        " [  2.06999289   1.54890396   1.35656534   1.48627849   2.0981193 ]\n",
        " [  1.62419019   1.24396198   1.95228606   3.06570014   3.21280537]\n",
        " [  1.23417715   0.77962913   1.7941349    3.09288711   3.70206534]\n",
        " [  1.80466906   0.53191494   2.61444362   1.62995505   3.22372315]\n",
        " [  0.98994093   1.54551078   1.77770635   2.28689545   2.06848381]\n",
        " [  1.57724216   1.67902969   2.53701243   2.91088886   2.23767854]\n",
        " [  2.1539696    1.8751321    2.04736573   1.01317804   2.84142684]\n",
        " [  2.63611084   3.05271861   0.94622914   1.1998567    2.25410525]\n",
        " [  3.28106051   3.23764284   0.98649986   1.70874622   1.58059158]\n",
        " [  1.08382608   3.4969896    1.97765424   1.41041553   2.29295491]\n",
        " [  1.61686736   2.09481427   1.45949744   1.46575597   4.26632702]\n",
        " [  1.26792701   1.47973074   1.71005953   1.91842252   2.51178657]\n",
        " [ 24.52939148   1.22242945   2.40163685   1.044465    28.68608161]]\n",
        "entering spikes from slices\n",
        "found  2 spike(s) at sl 0 \n",
        " spikes : [1 0 0 0 0 0 0 0 0 0 0 0 0 0 0 1]\n",
        " \n",
        "\t idx: 0  \n",
        "\t h_idx: 1  \n",
        "\t rank_idx: 15  \n",
        "\t closest h_rank:  5  \n",
        "\t rank_idx - h_rank:  10  \n",
        "\t hthres*rank_idx + 1:  4.0  \n",
        "\t thres:  0.2  \n",
        " smd2  [ 26.12048009   1.41369951   1.28359893   2.06999289   1.62419019\n",
        "   1.23417715   1.80466906   0.98994093   1.57724216   2.1539696\n",
        "   2.63611084   3.28106051   1.08382608   1.61686736   1.26792701\n",
        "  24.52939148]  \n",
        " index_diracs  [ 0 15]  \n",
        " idx_argsort  [ 7 12  5 14  2  1  8 13  4  6  3  9 10 11 15  0]  \n",
        " idx_ranks  [15  5  4 10  8  2  9  0  6 11 12 13  1  7  3 14]  \n",
        " lspik  [1 0 0 0 0 0 0 0 0 0 0 0 0 0 0 1]\n",
        " \n",
        "\t idx: 15  \n",
        "\t h_idx: 14  \n",
        "\t rank_idx: 14  \n",
        "\t closest h_rank:  3  \n",
        "\t rank_idx - h_rank:  11  \n",
        "\t hthres*rank_idx + 1:  3.8  \n",
        "\t thres:  0.2  \n",
        " smd2  [ 26.12048009   1.41369951   1.28359893   2.06999289   1.62419019\n",
        "   1.23417715   1.80466906   0.98994093   1.57724216   2.1539696\n",
        "   2.63611084   3.28106051   1.08382608   1.61686736   1.26792701\n",
        "  24.52939148]  \n",
        " index_diracs  [ 0 15]  \n",
        " idx_argsort  [ 7 12  5 14  2  1  8 13  4  6  3  9 10 11 15  0]  \n",
        " idx_ranks  [15  5  4 10  8  2  9  0  6 11 12 13  1  7  3 14]  \n",
        " lspik  [1 0 0 0 0 0 0 0 0 0 0 0 0 0 0 1]\n",
        "found  0 spike(s) at sl 1 \n",
        " spikes : [0 0 0 0 0 0 0 0 0 0 0 0 0 0 0 0]\n",
        "found  0 spike(s) at sl 2 \n",
        " spikes : [0 0 0 0 0 0 0 0 0 0 0 0 0 0 0 0]\n",
        "found  0 spike(s) at sl 3 \n",
        " spikes : [0 0 0 0 0 0 0 0 0 0 0 0 0 0 0 0]\n",
        "found  2 spike(s) at sl 4 \n",
        " spikes : [1 0 0 0 0 0 0 0 0 0 0 0 0 0 0 1]\n",
        " \n",
        "\t idx: 0  \n",
        "\t h_idx: 1  \n",
        "\t rank_idx: 14  \n",
        "\t closest h_rank:  0  \n",
        "\t rank_idx - h_rank:  14  \n",
        "\t hthres*rank_idx + 1:  3.8  \n",
        "\t thres:  0.2  \n",
        " smd2  [ 24.12266363   0.92625615   1.91458236   2.0981193    3.21280537\n",
        "   3.70206534   3.22372315   2.06848381   2.23767854   2.84142684\n",
        "   2.25410525   1.58059158   2.29295491   4.26632702   2.51178657\n",
        "  28.68608161]  \n",
        " index_diracs  [ 0 15]  \n",
        " idx_argsort  [ 1 11  2  7  3  8 10 12 14  9  4  6  5 13  0 15]  \n",
        " idx_ranks  [14  0  2  4 10 12 11  3  5  9  6  1  7 13  8 15]  \n",
        " lspik  [1 0 0 0 0 0 0 0 0 0 0 0 0 0 0 1]\n",
        " \n",
        "\t idx: 15  \n",
        "\t h_idx: 14  \n",
        "\t rank_idx: 15  \n",
        "\t closest h_rank:  8  \n",
        "\t rank_idx - h_rank:  7  \n",
        "\t hthres*rank_idx + 1:  4.0  \n",
        "\t thres:  0.2  \n",
        " smd2  [ 24.12266363   0.92625615   1.91458236   2.0981193    3.21280537\n",
        "   3.70206534   3.22372315   2.06848381   2.23767854   2.84142684\n",
        "   2.25410525   1.58059158   2.29295491   4.26632702   2.51178657\n",
        "  28.68608161]  \n",
        " index_diracs  [ 0 15]  \n",
        " idx_argsort  [ 1 11  2  7  3  8 10 12 14  9  4  6  5 13  0 15]  \n",
        " idx_ranks  [14  0  2  4 10 12 11  3  5  9  6  1  7 13  8 15]  \n",
        " lspik  [1 0 0 0 0 0 0 0 0 0 0 0 0 0 0 1]\n",
        "\n",
        " spikes ine one detec\n",
        " [[1 0 0 0 1]\n",
        " [0 0 0 0 0]\n",
        " [0 0 0 0 0]\n",
        " [0 0 0 0 0]\n",
        " [0 0 0 0 0]\n",
        " [0 0 0 0 0]\n",
        " [0 0 0 0 0]\n",
        " [0 0 0 0 0]\n",
        " [0 0 0 0 0]\n",
        " [0 0 0 0 0]\n",
        " [0 0 0 0 0]\n",
        " [0 0 0 0 0]\n",
        " [0 0 0 0 0]\n",
        " [0 0 0 0 0]\n",
        " [0 0 0 0 0]\n",
        " [1 0 0 0 1]]\n",
        "\n",
        " spkes\n",
        " [[1 0 0 0 1]\n",
        " [0 0 0 0 0]\n",
        " [0 0 0 0 0]\n",
        " [0 0 0 0 0]\n",
        " [0 0 0 0 0]\n",
        " [0 0 0 0 0]\n",
        " [0 0 0 0 0]\n",
        " [0 0 0 0 0]\n",
        " [0 0 0 0 0]\n",
        " [0 0 0 0 0]\n",
        " [0 0 0 0 0]\n",
        " [0 0 0 0 0]\n",
        " [0 0 0 0 0]\n",
        " [0 0 0 0 0]\n",
        " [0 0 0 0 0]\n",
        " [1 0 0 0 1]]\n",
        "\n",
        " final in final detection \n",
        " [[1 0 0 0 1]\n",
        " [0 0 0 0 0]\n",
        " [0 0 0 0 0]\n",
        " [0 0 0 0 0]\n",
        " [0 0 0 0 0]\n",
        " [0 0 0 0 0]\n",
        " [0 0 0 0 0]\n",
        " [0 0 0 0 0]\n",
        " [0 0 0 0 0]\n",
        " [0 0 0 0 0]\n",
        " [0 0 0 0 0]\n",
        " [0 0 0 0 0]\n",
        " [0 0 0 0 0]\n",
        " [0 0 0 0 0]\n",
        " [0 0 0 0 0]\n",
        " [0 0 0 0 0]\n",
        " [1 0 0 0 1]]\n",
        "\n",
        " final ine one detec\n",
        " [[1 0 0 0 1]\n",
        " [0 0 0 0 0]\n",
        " [0 0 0 0 0]\n",
        " [0 0 0 0 0]\n",
        " [0 0 0 0 0]\n",
        " [0 0 0 0 0]\n",
        " [0 0 0 0 0]\n",
        " [0 0 0 0 0]\n",
        " [0 0 0 0 0]\n",
        " [0 0 0 0 0]\n",
        " [0 0 0 0 0]\n",
        " [0 0 0 0 0]\n",
        " [0 0 0 0 0]\n",
        " [0 0 0 0 0]\n",
        " [0 0 0 0 0]\n",
        " [0 0 0 0 0]\n",
        " [1 0 0 0 1]]\n",
        "times_to_correct:  [ 0 16]\n",
        "times_to_correct:  [ 0 16] slices_to_correct: {0: array([0, 4]), 16: array([0, 4])}\n",
        "\n",
        "sh,sli,tim: \n",
        " (4, 4, 5, 17) ([0, 1, 2, 3, 4], [0, 2, 4]) (0, 10)\n",
        "\n",
        " smd2 ine one detec\n",
        " [[ 32.26513396  28.81693067  32.5576925   31.40894658  26.99129223]\n",
        " [  3.64123717   1.39593765   0.89308375   2.18753408   2.0231724 ]\n",
        " [  1.15368054   1.06954106   0.68850788   1.94979789   1.70789053]\n",
        " [  1.33112798   1.91800713   1.51826969   1.70544749   1.26951675]\n",
        " [  2.01680163   1.79799659   0.97277728   1.86316683   1.30350806]\n",
        " [  2.4869156    1.87060268   1.6040221    1.64145047   1.84879562]\n",
        " [  1.87980689   2.9167523    2.61400824   1.54763011   1.20749778]\n",
        " [  1.54637392   2.4969495    2.24364463   2.55369908   1.72792463]\n",
        " [  1.78022384   1.95564488   1.61185463   2.89143437   1.06708372]\n",
        " [ 27.46750845   1.84365943  28.19925881   1.9615876   18.27072102]\n",
        " [ 25.7092963    1.42605817  24.68865918   2.36697634  18.62624568]\n",
        " [  2.19753858   2.045021     1.33933543   2.04697349   2.52777323]\n",
        " [  2.5674009    1.6412959    2.13777845   3.29837957   3.35494472]\n",
        " [  1.48022795   0.97385222   1.31534434   3.09750378   1.20309428]\n",
        " [  1.5146971    1.97220903   1.86451065   3.52226016   1.80058563]\n",
        " [  2.47231174   2.55135738   3.13921397   2.55060518   1.00093008]]\n",
        "entering spikes from slices\n",
        "found  3 spike(s) at sl 0 \n",
        " spikes : [1 0 0 0 0 0 0 0 0 1 1 0 0 0 0 0]\n",
        " \n",
        "\t idx: 0  \n",
        "\t h_idx: 1  \n",
        "\t rank_idx: 15  \n",
        "\t closest h_rank:  12  \n",
        "\t rank_idx - h_rank:  3  \n",
        "\t hthres*rank_idx + 1:  4.0  \n",
        "\t thres:  0.2  \n",
        " smd2  [ 32.26513396   3.64123717   1.15368054   1.33112798   2.01680163\n",
        "   2.4869156    1.87980689   1.54637392   1.78022384  27.46750845\n",
        "  25.7092963    2.19753858   2.5674009    1.48022795   1.5146971\n",
        "   2.47231174]  \n",
        " index_diracs  [0]  \n",
        " idx_argsort  [ 2  3 13 14  7  8  6  4 11 15  5 12  1 10  9  0]  \n",
        " idx_ranks  [15 12  0  1  7 10  6  4  5 14 13  8 11  2  3  9]  \n",
        " lspik  [1 0 0 0 0 0 0 0 0 1 1 0 0 0 0 0]\n",
        "found  1 spike(s) at sl 1 \n",
        " spikes : [1 0 0 0 0 0 0 0 0 0 0 0 0 0 0 0]\n",
        " \n",
        "\t idx: 0  \n",
        "\t h_idx: 1  \n",
        "\t rank_idx: 15  \n",
        "\t closest h_rank:  2  \n",
        "\t rank_idx - h_rank:  13  \n",
        "\t hthres*rank_idx + 1:  4.0  \n",
        "\t thres:  0.2  \n",
        " smd2  [ 28.81693067   1.39593765   1.06954106   1.91800713   1.79799659\n",
        "   1.87060268   2.9167523    2.4969495    1.95564488   1.84365943\n",
        "   1.42605817   2.045021     1.6412959    0.97385222   1.97220903\n",
        "   2.55135738]  \n",
        " index_diracs  [0]  \n",
        " idx_argsort  [13  2  1 10 12  4  9  5  3  8 14 11  7 15  6  0]  \n",
        " idx_ranks  [15  2  1  8  5  7 14 12  9  6  3 11  4  0 10 13]  \n",
        " lspik  [1 0 0 0 0 0 0 0 0 0 0 0 0 0 0 0]\n",
        "found  3 spike(s) at sl 2 \n",
        " spikes : [1 0 0 0 0 0 0 0 0 1 1 0 0 0 0 0]\n",
        " \n",
        "\t idx: 0  \n",
        "\t h_idx: 1  \n",
        "\t rank_idx: 15  \n",
        "\t closest h_rank:  1  \n",
        "\t rank_idx - h_rank:  14  \n",
        "\t hthres*rank_idx + 1:  4.0  \n",
        "\t thres:  0.2  \n",
        " smd2  [ 32.5576925    0.89308375   0.68850788   1.51826969   0.97277728\n",
        "   1.6040221    2.61400824   2.24364463   1.61185463  28.19925881\n",
        "  24.68865918   1.33933543   2.13777845   1.31534434   1.86451065\n",
        "   3.13921397]  \n",
        " index_diracs  [0]  \n",
        " idx_argsort  [ 2  1  4 13 11  3  5  8 14 12  7  6 15 10  9  0]  \n",
        " idx_ranks  [15  1  0  5  2  6 11 10  7 14 13  4  9  3  8 12]  \n",
        " lspik  [1 0 0 0 0 0 0 0 0 1 1 0 0 0 0 0]\n",
        "found  1 spike(s) at sl 3 \n",
        " spikes : [1 0 0 0 0 0 0 0 0 0 0 0 0 0 0 0]\n",
        " \n",
        "\t idx: 0  \n",
        "\t h_idx: 1  \n",
        "\t rank_idx: 15  \n",
        "\t closest h_rank:  7  \n",
        "\t rank_idx - h_rank:  8  \n",
        "\t hthres*rank_idx + 1:  4.0  \n",
        "\t thres:  0.2  \n",
        " smd2  [ 31.40894658   2.18753408   1.94979789   1.70544749   1.86316683\n",
        "   1.64145047   1.54763011   2.55369908   2.89143437   1.9615876\n",
        "   2.36697634   2.04697349   3.29837957   3.09750378   3.52226016\n",
        "   2.55060518]  \n",
        " index_diracs  [0]  \n",
        " idx_argsort  [ 6  5  3  4  2  9 11  1 10 15  7  8 13 12 14  0]  \n",
        " idx_ranks  [15  7  4  2  3  1  0 10 11  5  8  6 13 12 14  9]  \n",
        " lspik  [1 0 0 0 0 0 0 0 0 0 0 0 0 0 0 0]\n",
        "found  3 spike(s) at sl 4 \n",
        " spikes : [1 0 0 0 0 0 0 0 0 1 1 0 0 0 0 0]\n",
        " \n",
        "\t idx: 0  \n",
        "\t h_idx: 1  \n",
        "\t rank_idx: 15  \n",
        "\t closest h_rank:  10  \n",
        "\t rank_idx - h_rank:  5  \n",
        "\t hthres*rank_idx + 1:  4.0  \n",
        "\t thres:  0.2  \n",
        " smd2  [ 26.99129223   2.0231724    1.70789053   1.26951675   1.30350806\n",
        "   1.84879562   1.20749778   1.72792463   1.06708372  18.27072102\n",
        "  18.62624568   2.52777323   3.35494472   1.20309428   1.80058563\n",
        "   1.00093008]  \n",
        " index_diracs  [0]  \n",
        " idx_argsort  [15  8 13  6  3  4  2  7 14  5  1 11 12  9 10  0]  \n",
        " idx_ranks  [15 10  6  4  5  9  3  7  1 13 14 11 12  2  8  0]  \n",
        " lspik  [1 0 0 0 0 0 0 0 0 1 1 0 0 0 0 0]\n",
        "\n",
        " spikes ine one detec\n",
        " [[1 1 1 1 1]\n",
        " [0 0 0 0 0]\n",
        " [0 0 0 0 0]\n",
        " [0 0 0 0 0]\n",
        " [0 0 0 0 0]\n",
        " [0 0 0 0 0]\n",
        " [0 0 0 0 0]\n",
        " [0 0 0 0 0]\n",
        " [0 0 0 0 0]\n",
        " [1 0 1 0 1]\n",
        " [1 0 1 0 1]\n",
        " [0 0 0 0 0]\n",
        " [0 0 0 0 0]\n",
        " [0 0 0 0 0]\n",
        " [0 0 0 0 0]\n",
        " [0 0 0 0 0]]\n",
        "\n",
        " spkes\n",
        " [[1 1 1 1 1]\n",
        " [0 0 0 0 0]\n",
        " [0 0 0 0 0]\n",
        " [0 0 0 0 0]\n",
        " [0 0 0 0 0]\n",
        " [0 0 0 0 0]\n",
        " [0 0 0 0 0]\n",
        " [0 0 0 0 0]\n",
        " [0 0 0 0 0]\n",
        " [1 0 1 0 1]\n",
        " [1 0 1 0 1]\n",
        " [0 0 0 0 0]\n",
        " [0 0 0 0 0]\n",
        " [0 0 0 0 0]\n",
        " [0 0 0 0 0]\n",
        " [0 0 0 0 0]]\n",
        "\n",
        " final in final detection \n",
        " [[1 1 1 1 1]\n",
        " [0 0 0 0 0]\n",
        " [0 0 0 0 0]\n",
        " [0 0 0 0 0]\n",
        " [0 0 0 0 0]\n",
        " [0 0 0 0 0]\n",
        " [0 0 0 0 0]\n",
        " [0 0 0 0 0]\n",
        " [0 0 0 0 0]\n",
        " [0 0 0 0 0]\n",
        " [1 0 1 0 1]\n",
        " [0 0 0 0 0]\n",
        " [0 0 0 0 0]\n",
        " [0 0 0 0 0]\n",
        " [0 0 0 0 0]\n",
        " [0 0 0 0 0]\n",
        " [0 0 0 0 0]]\n",
        "\n",
        " final ine one detec\n",
        " [[1 1 1 1 1]\n",
        " [0 0 0 0 0]\n",
        " [0 0 0 0 0]\n",
        " [0 0 0 0 0]\n",
        " [0 0 0 0 0]\n",
        " [0 0 0 0 0]\n",
        " [0 0 0 0 0]\n",
        " [0 0 0 0 0]\n",
        " [0 0 0 0 0]\n",
        " [0 0 0 0 0]\n",
        " [1 0 1 0 1]\n",
        " [0 0 0 0 0]\n",
        " [0 0 0 0 0]\n",
        " [0 0 0 0 0]\n",
        " [0 0 0 0 0]\n",
        " [0 0 0 0 0]\n",
        " [0 0 0 0 0]]\n",
        "times_to_correct:  [ 0 10]\n",
        "times_to_correct:  [ 0 10] slices_to_correct: {0: array([0, 1, 2, 3, 4]), 10: array([0, 2, 4])}\n",
        "\n",
        "sh,sli,tim: \n",
        " (4, 4, 5, 17) ([3], [0, 2, 4]) (0, 16)\n",
        "\n",
        " smd2 ine one detec\n",
        " [[  2.56864305   1.84147755   1.6380892   28.60069957   2.46419398]\n",
        " [  1.77096409   1.65518681   2.12609937   2.24905374   1.8804224 ]\n",
        " [  2.56878723   1.73354786   1.93288786   1.56665435   1.79107095]\n",
        " [  1.67526911   0.52559154   1.71175399   3.53385299   0.89227971]\n",
        " [  3.30323271   1.24092333   1.54546565   0.86686518   2.71812323]\n",
        " [  3.77124987   1.75454251   1.24141167   2.33171606   1.76461885]\n",
        " [  2.8750643    2.02030972   1.5423236    3.1640532    2.4715466 ]\n",
        " [  2.11397203   1.9541486    2.27295691   2.62618615   1.80143789]\n",
        " [  1.92955091   2.27234348   2.59085154   2.12175737   1.99401372]\n",
        " [  2.7671633    2.49602849   1.16740485   2.63124332   3.22826724]\n",
        " [  2.59304278   3.93689879   1.97169409   1.94880729   2.87333509]\n",
        " [  2.46241213   1.63998546   1.37903726   1.56802544   2.67566781]\n",
        " [  2.52174437   1.98217111   1.89437632   1.04530771   2.20134211]\n",
        " [  2.93763801   2.46930713   1.63757811   1.74434756   2.62176539]\n",
        " [  1.88888355   2.35855713   2.08940747   1.67002219   2.84161216]\n",
        " [ 25.2416309    1.85701669  26.39766164   3.68561132  23.15395448]]\n",
        "entering spikes from slices\n",
        "found  1 spike(s) at sl 0 \n",
        " spikes : [0 0 0 0 0 0 0 0 0 0 0 0 0 0 0 1]\n",
        " \n",
        "\t idx: 15  \n",
        "\t h_idx: 14  \n",
        "\t rank_idx: 15  \n",
        "\t closest h_rank:  2  \n",
        "\t rank_idx - h_rank:  13  \n",
        "\t hthres*rank_idx + 1:  4.0  \n",
        "\t thres:  0.2  \n",
        " smd2  [  2.56864305   1.77096409   2.56878723   1.67526911   3.30323271\n",
        "   3.77124987   2.8750643    2.11397203   1.92955091   2.7671633\n",
        "   2.59304278   2.46241213   2.52174437   2.93763801   1.88888355\n",
        "  25.2416309 ]  \n",
        " index_diracs  [15]  \n",
        " idx_argsort  [ 3  1 14  8  7 11 12  0  2 10  9  6 13  4  5 15]  \n",
        " idx_ranks  [ 7  1  8  0 13 14 11  4  3 10  9  5  6 12  2 15]  \n",
        " lspik  [0 0 0 0 0 0 0 0 0 0 0 0 0 0 0 1]"
       ]
      },
      {
       "output_type": "stream",
       "stream": "stdout",
       "text": [
        "\n",
        "found  1 spike(s) at sl 1 \n",
        " spikes : [0 0 0 0 0 0 0 0 0 0 1 0 0 0 0 0]\n",
        " \n",
        "\t idx: 10  \n",
        "\t h_idx: 9  \n",
        "\t rank_idx: 15  \n",
        "\t closest h_rank:  14  \n",
        "\t rank_idx - h_rank:  1  \n",
        "\t hthres*rank_idx + 1:  4.0  \n",
        "\t thres:  0.2  \n",
        " smd2  [ 1.84147755  1.65518681  1.73354786  0.52559154  1.24092333  1.75454251\n",
        "  2.02030972  1.9541486   2.27234348  2.49602849  3.93689879  1.63998546\n",
        "  1.98217111  2.46930713  2.35855713  1.85701669]  \n",
        " index_diracs  [10]  \n",
        " idx_argsort  [ 3  4 11  1  2  5  0 15  7 12  6  8 14 13  9 10]  \n",
        " idx_ranks  [ 6  3  4  0  1  5 10  8 11 14 15  2  9 13 12  7]  \n",
        " lspik  [0 0 0 0 0 0 0 0 0 0 1 0 0 0 0 0]\n",
        "found  1 spike(s) at sl 2 \n",
        " spikes : [0 0 0 0 0 0 0 0 0 0 0 0 0 0 0 1]\n",
        " \n",
        "\t idx: 15  \n",
        "\t h_idx: 14  \n",
        "\t rank_idx: 15  \n",
        "\t closest h_rank:  11  \n",
        "\t rank_idx - h_rank:  4  \n",
        "\t hthres*rank_idx + 1:  4.0  \n",
        "\t thres:  0.2  \n",
        " smd2  [  1.6380892    2.12609937   1.93288786   1.71175399   1.54546565\n",
        "   1.24141167   1.5423236    2.27295691   2.59085154   1.16740485\n",
        "   1.97169409   1.37903726   1.89437632   1.63757811   2.08940747\n",
        "  26.39766164]  \n",
        " index_diracs  [15]  \n",
        " idx_argsort  [ 9  5 11  6  4 13  0  3 12  2 10 14  1  7  8 15]  \n",
        " idx_ranks  [ 6 12  9  7  4  1  3 13 14  0 10  2  8  5 11 15]  \n",
        " lspik  [0 0 0 0 0 0 0 0 0 0 0 0 0 0 0 1]\n",
        "found  1 spike(s) at sl 3 \n",
        " spikes : [1 0 0 0 0 0 0 0 0 0 0 0 0 0 0 0]\n",
        " \n",
        "\t idx: 0  \n",
        "\t h_idx: 1  \n",
        "\t rank_idx: 15  \n",
        "\t closest h_rank:  8  \n",
        "\t rank_idx - h_rank:  7  \n",
        "\t hthres*rank_idx + 1:  4.0  \n",
        "\t thres:  0.2  \n",
        " smd2  [ 28.60069957   2.24905374   1.56665435   3.53385299   0.86686518\n",
        "   2.33171606   3.1640532    2.62618615   2.12175737   2.63124332\n",
        "   1.94880729   1.56802544   1.04530771   1.74434756   1.67002219\n",
        "   3.68561132]  \n",
        " index_diracs  [0]  \n",
        " idx_argsort  [ 4 12  2 11 14 13 10  8  1  5  7  9  6  3 15  0]  \n",
        " idx_ranks  [15  8  2 13  0  9 12 10  7 11  6  3  1  5  4 14]  \n",
        " lspik  [1 0 0 0 0 0 0 0 0 0 0 0 0 0 0 0]\n",
        "found  1 spike(s) at sl 4 \n",
        " spikes : [0 0 0 0 0 0 0 0 0 0 0 0 0 0 0 1]\n",
        " \n",
        "\t idx: 15  \n",
        "\t h_idx: 14  \n",
        "\t rank_idx: 15  \n",
        "\t closest h_rank:  12  \n",
        "\t rank_idx - h_rank:  3  \n",
        "\t hthres*rank_idx + 1:  4.0  \n",
        "\t thres:  0.2  \n",
        " smd2  [  2.46419398   1.8804224    1.79107095   0.89227971   2.71812323\n",
        "   1.76461885   2.4715466    1.80143789   1.99401372   3.22826724\n",
        "   2.87333509   2.67566781   2.20134211   2.62176539   2.84161216\n",
        "  23.15395448]  \n",
        " index_diracs  [15]  \n",
        " idx_argsort  [ 3  5  2  7  1  8 12  0  6 13 11  4 14 10  9 15]  \n",
        " idx_ranks  [ 7  4  2  0 11  1  8  3  5 14 13 10  6  9 12 15]  \n",
        " lspik  [0 0 0 0 0 0 0 0 0 0 0 0 0 0 0 1]\n",
        "\n",
        " spikes ine one detec\n",
        " [[0 0 0 1 0]\n",
        " [0 0 0 0 0]\n",
        " [0 0 0 0 0]\n",
        " [0 0 0 0 0]\n",
        " [0 0 0 0 0]\n",
        " [0 0 0 0 0]\n",
        " [0 0 0 0 0]\n",
        " [0 0 0 0 0]\n",
        " [0 0 0 0 0]\n",
        " [0 0 0 0 0]\n",
        " [0 1 0 0 0]\n",
        " [0 0 0 0 0]\n",
        " [0 0 0 0 0]\n",
        " [0 0 0 0 0]\n",
        " [0 0 0 0 0]\n",
        " [1 0 1 0 1]]\n",
        "\n",
        " spkes\n",
        " [[0 0 0 1 0]\n",
        " [0 0 0 0 0]\n",
        " [0 0 0 0 0]\n",
        " [0 0 0 0 0]\n",
        " [0 0 0 0 0]\n",
        " [0 0 0 0 0]\n",
        " [0 0 0 0 0]\n",
        " [0 0 0 0 0]\n",
        " [0 0 0 0 0]\n",
        " [0 0 0 0 0]\n",
        " [0 1 0 0 0]\n",
        " [0 0 0 0 0]\n",
        " [0 0 0 0 0]\n",
        " [0 0 0 0 0]\n",
        " [0 0 0 0 0]\n",
        " [1 0 1 0 1]]\n",
        "\n",
        " final in final detection \n",
        " [[0 0 0 1 0]\n",
        " [0 0 0 0 0]\n",
        " [0 0 0 0 0]\n",
        " [0 0 0 0 0]\n",
        " [0 0 0 0 0]\n",
        " [0 0 0 0 0]\n",
        " [0 0 0 0 0]\n",
        " [0 0 0 0 0]\n",
        " [0 0 0 0 0]\n",
        " [0 0 0 0 0]\n",
        " [0 0 0 0 0]\n",
        " [0 0 0 0 0]\n",
        " [0 0 0 0 0]\n",
        " [0 0 0 0 0]\n",
        " [0 0 0 0 0]\n",
        " [0 0 0 0 0]\n",
        " [1 0 1 0 1]]\n",
        "\n",
        " final ine one detec\n",
        " [[0 0 0 1 0]\n",
        " [0 0 0 0 0]\n",
        " [0 0 0 0 0]\n",
        " [0 0 0 0 0]\n",
        " [0 0 0 0 0]\n",
        " [0 0 0 0 0]\n",
        " [0 0 0 0 0]\n",
        " [0 0 0 0 0]\n",
        " [0 0 0 0 0]\n",
        " [0 0 0 0 0]\n",
        " [0 0 0 0 0]\n",
        " [0 0 0 0 0]\n",
        " [0 0 0 0 0]\n",
        " [0 0 0 0 0]\n",
        " [0 0 0 0 0]\n",
        " [0 0 0 0 0]\n",
        " [1 0 1 0 1]]\n",
        "times_to_correct:  [ 0 16]\n",
        "times_to_correct:  [ 0 16] slices_to_correct: {0: array([3]), 16: array([0, 2, 4])}\n"
       ]
      }
     ],
     "prompt_number": 4
    },
    {
     "cell_type": "code",
     "collapsed": false,
     "input": [
      "def rank_idx(idx, rk2idx):\n",
      "    # return where idx is in rk2idx \n",
      "    return np.where(np.asarray(rk2idx) == idx)[0]"
     ],
     "language": "python",
     "metadata": {},
     "outputs": [],
     "prompt_number": 5
    },
    {
     "cell_type": "code",
     "collapsed": false,
     "input": [
      "idx_argsort = np.asarray([ 6,  5,  3,  4,  2,  9, 11,  1, 10, 15,  7,  8, 13, 12, 14,  0])"
     ],
     "language": "python",
     "metadata": {},
     "outputs": [],
     "prompt_number": 6
    },
    {
     "cell_type": "code",
     "collapsed": false,
     "input": [
      "print rank_idx(0, idx_argsort)"
     ],
     "language": "python",
     "metadata": {},
     "outputs": [
      {
       "output_type": "stream",
       "stream": "stdout",
       "text": [
        "[15]\n"
       ]
      }
     ],
     "prompt_number": 7
    },
    {
     "cell_type": "code",
     "collapsed": false,
     "input": [
      "a = np.arange(16)"
     ],
     "language": "python",
     "metadata": {},
     "outputs": [],
     "prompt_number": 8
    },
    {
     "cell_type": "code",
     "collapsed": false,
     "input": [
      "a[idx_argsort]"
     ],
     "language": "python",
     "metadata": {},
     "outputs": [
      {
       "metadata": {},
       "output_type": "pyout",
       "prompt_number": 9,
       "text": [
        "array([ 6,  5,  3,  4,  2,  9, 11,  1, 10, 15,  7,  8, 13, 12, 14,  0])"
       ]
      }
     ],
     "prompt_number": 9
    },
    {
     "cell_type": "code",
     "collapsed": false,
     "input": [
      "np.where(idx_argsort >5)"
     ],
     "language": "python",
     "metadata": {},
     "outputs": [
      {
       "metadata": {},
       "output_type": "pyout",
       "prompt_number": 10,
       "text": [
        "(array([ 0,  5,  6,  8,  9, 10, 11, 12, 13, 14]),)"
       ]
      }
     ],
     "prompt_number": 10
    },
    {
     "cell_type": "code",
     "collapsed": false,
     "input": [
      "arr= np.asarray([ 13.57161279,   2.18753408,   1.94979789,   1.70544749,   1.86316683,  \n",
      "                 1.64145047,   1.54763011,   2.55369908,   2.89143437,  1.9615876, 2.36697634,   \n",
      "                 2.04697349,   3.29837957,   3.09750378,   3.52226016,   2.55060518])"
     ],
     "language": "python",
     "metadata": {},
     "outputs": [],
     "prompt_number": 11
    },
    {
     "cell_type": "code",
     "collapsed": false,
     "input": [
      "isort = np.argsort(arr)\n",
      "arr[isort]"
     ],
     "language": "python",
     "metadata": {},
     "outputs": [
      {
       "metadata": {},
       "output_type": "pyout",
       "prompt_number": 12,
       "text": [
        "array([  1.54763011,   1.64145047,   1.70544749,   1.86316683,\n",
        "         1.94979789,   1.9615876 ,   2.04697349,   2.18753408,\n",
        "         2.36697634,   2.55060518,   2.55369908,   2.89143437,\n",
        "         3.09750378,   3.29837957,   3.52226016,  13.57161279])"
       ]
      }
     ],
     "prompt_number": 12
    },
    {
     "cell_type": "code",
     "collapsed": false,
     "input": [
      "np.argsort(isort)"
     ],
     "language": "python",
     "metadata": {},
     "outputs": [
      {
       "metadata": {},
       "output_type": "pyout",
       "prompt_number": 13,
       "text": [
        "array([15,  7,  4,  2,  3,  1,  0, 10, 11,  5,  8,  6, 13, 12, 14,  9])"
       ]
      }
     ],
     "prompt_number": 13
    },
    {
     "cell_type": "code",
     "collapsed": false,
     "input": [
      "sh=(17,5)\n",
      "d = np.zeros(sh, dtype=np.int16)\n",
      "d[0, np.round(sh[1]/2)] = 1\n",
      "d[4:8, np.round(sh[1]/2)] = np.asarray([0,1,1,0])"
     ],
     "language": "python",
     "metadata": {},
     "outputs": [],
     "prompt_number": 14
    },
    {
     "cell_type": "code",
     "collapsed": false,
     "input": [
      "d"
     ],
     "language": "python",
     "metadata": {},
     "outputs": [
      {
       "metadata": {},
       "output_type": "pyout",
       "prompt_number": 15,
       "text": [
        "array([[0, 0, 1, 0, 0],\n",
        "       [0, 0, 0, 0, 0],\n",
        "       [0, 0, 0, 0, 0],\n",
        "       [0, 0, 0, 0, 0],\n",
        "       [0, 0, 0, 0, 0],\n",
        "       [0, 0, 1, 0, 0],\n",
        "       [0, 0, 1, 0, 0],\n",
        "       [0, 0, 0, 0, 0],\n",
        "       [0, 0, 0, 0, 0],\n",
        "       [0, 0, 0, 0, 0],\n",
        "       [0, 0, 0, 0, 0],\n",
        "       [0, 0, 0, 0, 0],\n",
        "       [0, 0, 0, 0, 0],\n",
        "       [0, 0, 0, 0, 0],\n",
        "       [0, 0, 0, 0, 0],\n",
        "       [0, 0, 0, 0, 0],\n",
        "       [0, 0, 0, 0, 0]], dtype=int16)"
       ]
      }
     ],
     "prompt_number": 15
    },
    {
     "cell_type": "code",
     "collapsed": false,
     "input": [
      "round(3.4)"
     ],
     "language": "python",
     "metadata": {},
     "outputs": [
      {
       "metadata": {},
       "output_type": "pyout",
       "prompt_number": 16,
       "text": [
        "3.0"
       ]
      }
     ],
     "prompt_number": 16
    },
    {
     "cell_type": "code",
     "collapsed": false,
     "input": [
      "d = np.zeros(sh, dtype=np.int16)"
     ],
     "language": "python",
     "metadata": {},
     "outputs": [],
     "prompt_number": 17
    },
    {
     "cell_type": "code",
     "collapsed": false,
     "input": [
      "t = round(sh[0]/2) "
     ],
     "language": "python",
     "metadata": {},
     "outputs": [],
     "prompt_number": 18
    },
    {
     "cell_type": "code",
     "collapsed": false,
     "input": [
      "d[t:t+4, round(sh[1]/2)] = np.asarray([0,1,1,0])"
     ],
     "language": "python",
     "metadata": {},
     "outputs": [],
     "prompt_number": 19
    },
    {
     "cell_type": "code",
     "collapsed": false,
     "input": [
      "d"
     ],
     "language": "python",
     "metadata": {},
     "outputs": [
      {
       "metadata": {},
       "output_type": "pyout",
       "prompt_number": 20,
       "text": [
        "array([[0, 0, 0, 0, 0],\n",
        "       [0, 0, 0, 0, 0],\n",
        "       [0, 0, 0, 0, 0],\n",
        "       [0, 0, 0, 0, 0],\n",
        "       [0, 0, 0, 0, 0],\n",
        "       [0, 0, 0, 0, 0],\n",
        "       [0, 0, 0, 0, 0],\n",
        "       [0, 0, 0, 0, 0],\n",
        "       [0, 0, 0, 0, 0],\n",
        "       [0, 0, 1, 0, 0],\n",
        "       [0, 0, 1, 0, 0],\n",
        "       [0, 0, 0, 0, 0],\n",
        "       [0, 0, 0, 0, 0],\n",
        "       [0, 0, 0, 0, 0],\n",
        "       [0, 0, 0, 0, 0],\n",
        "       [0, 0, 0, 0, 0],\n",
        "       [0, 0, 0, 0, 0]], dtype=int16)"
       ]
      }
     ],
     "prompt_number": 20
    },
    {
     "cell_type": "code",
     "collapsed": false,
     "input": [
      "len(d)"
     ],
     "language": "python",
     "metadata": {},
     "outputs": [
      {
       "metadata": {},
       "output_type": "pyout",
       "prompt_number": 21,
       "text": [
        "17"
       ]
      }
     ],
     "prompt_number": 21
    },
    {
     "cell_type": "code",
     "collapsed": false,
     "input": [
      "import test_qc as tq\n",
      "import fmri_qc as fq\n",
      "reload(tq)\n",
      "reload(fq)"
     ],
     "language": "python",
     "metadata": {},
     "outputs": [
      {
       "metadata": {},
       "output_type": "pyout",
       "prompt_number": 24,
       "text": [
        "<module 'fmri_qc' from 'fmri_qc.pyc'>"
       ]
      }
     ],
     "prompt_number": 24
    },
    {
     "cell_type": "code",
     "collapsed": false,
     "input": [
      "patt = [1,0,1]\n",
      "dsh = (7,4)\n",
      "\n",
      "d = tq.make_pattern(patt, 'e', 0, sh=dsh)\n",
      "d += tq.make_pattern(patt, 's', 1, sh=dsh)\n",
      "d += tq.make_pattern(patt, 1, 'e', sh=dsh)"
     ],
     "language": "python",
     "metadata": {},
     "outputs": [],
     "prompt_number": 25
    },
    {
     "cell_type": "code",
     "collapsed": false,
     "input": [
      "d"
     ],
     "language": "python",
     "metadata": {},
     "outputs": [
      {
       "metadata": {},
       "output_type": "pyout",
       "prompt_number": 26,
       "text": [
        "array([[0, 1, 0, 0],\n",
        "       [0, 0, 0, 1],\n",
        "       [0, 1, 0, 0],\n",
        "       [0, 0, 0, 1],\n",
        "       [1, 0, 0, 0],\n",
        "       [0, 0, 0, 0],\n",
        "       [1, 0, 0, 0]], dtype=int16)"
       ]
      }
     ],
     "prompt_number": 26
    },
    {
     "cell_type": "code",
     "collapsed": false,
     "input": [
      "fq.detect_pattern(d, patt, dpos=2)"
     ],
     "language": "python",
     "metadata": {},
     "outputs": [
      {
       "metadata": {},
       "output_type": "pyout",
       "prompt_number": 27,
       "text": [
        "array([[False, False, False, False],\n",
        "       [False, False, False, False],\n",
        "       [False,  True, False, False],\n",
        "       [False, False, False,  True],\n",
        "       [False, False, False, False],\n",
        "       [False, False, False, False],\n",
        "       [ True, False, False, False]], dtype=bool)"
       ]
      }
     ],
     "prompt_number": 27
    },
    {
     "cell_type": "code",
     "collapsed": false,
     "input": [
      "a = (d==0)\n",
      "print a"
     ],
     "language": "python",
     "metadata": {},
     "outputs": [
      {
       "output_type": "stream",
       "stream": "stdout",
       "text": [
        "[[ True False  True  True]\n",
        " [ True  True  True False]\n",
        " [ True False  True  True]\n",
        " [ True  True  True False]\n",
        " [False  True  True  True]\n",
        " [ True  True  True  True]\n",
        " [False  True  True  True]]\n"
       ]
      }
     ],
     "prompt_number": 28
    },
    {
     "cell_type": "code",
     "collapsed": false,
     "input": [
      "from numpy.testing import (assert_array_almost_equal, \n",
      "                           assert_almost_equal, assert_array_equal, assert_equal)\n"
     ],
     "language": "python",
     "metadata": {},
     "outputs": [],
     "prompt_number": 29
    },
    {
     "cell_type": "code",
     "collapsed": false,
     "input": [
      "a = np.asarray([1.2, 0.2, 1.3, 0.4, .9, 2, 10, 8, 1.3, 1.1])"
     ],
     "language": "python",
     "metadata": {},
     "outputs": [],
     "prompt_number": 30
    },
    {
     "cell_type": "code",
     "collapsed": false,
     "input": [
      "tq.test_add_histeresis()"
     ],
     "language": "python",
     "metadata": {},
     "outputs": [],
     "prompt_number": 31
    },
    {
     "cell_type": "code",
     "collapsed": false,
     "input": [
      "print fq.add_histeresis(a, a>9, a>=8, hthres=.2, verbose=1)"
     ],
     "language": "python",
     "metadata": {},
     "outputs": [
      {
       "output_type": "stream",
       "stream": "stdout",
       "text": [
        " \n",
        "\t idx: 6  \n",
        "\t h_idx: 7  \n",
        "\t rank_idx: 9  \n",
        "\t closest h_rank:  8  \n",
        "\t rank_idx - h_rank:  1  \n",
        "\t hthres*rank_idx + 1:  2.8  \n",
        "\t thres:  0.2  \n",
        " smd2  [  1.2   0.2   1.3   0.4   0.9   2.   10.    8.    1.3   1.1]  \n",
        " index_diracs  [6]  \n",
        " idx_argsort  [1 3 4 9 0 2 8 5 7 6]  \n",
        " idx_ranks  [4 0 5 1 2 7 9 8 6 3]  \n",
        " lspik  [False False False False False False  True  True False False]\n",
        "\t *** Found one by histeresis *** \n",
        "[False False False False False False False  True False False]\n"
       ]
      }
     ],
     "prompt_number": 32
    },
    {
     "cell_type": "code",
     "collapsed": false,
     "input": [
      "a>9"
     ],
     "language": "python",
     "metadata": {},
     "outputs": [
      {
       "metadata": {},
       "output_type": "pyout",
       "prompt_number": 33,
       "text": [
        "array([False, False, False, False, False, False,  True, False, False, False], dtype=bool)"
       ]
      }
     ],
     "prompt_number": 33
    },
    {
     "cell_type": "code",
     "collapsed": false,
     "input": [
      "a = np.asarray(  [1.2, .2, 13, 0.4, .9, 2, 10, 8, 1.3, 1.1])\n",
      "spik = a > 9\n",
      "lspik = a > 7\n",
      "hspik =fq.add_histeresis(a, spik, lspik, hthres=.2)"
     ],
     "language": "python",
     "metadata": {},
     "outputs": [],
     "prompt_number": 38
    },
    {
     "cell_type": "code",
     "collapsed": false,
     "input": [
      "print spik\n",
      "print hspik"
     ],
     "language": "python",
     "metadata": {},
     "outputs": [
      {
       "output_type": "stream",
       "stream": "stdout",
       "text": [
        "[False False  True False False False  True False False False]\n",
        "[False False False False False False False  True False False]\n"
       ]
      }
     ],
     "prompt_number": 39
    },
    {
     "cell_type": "code",
     "collapsed": false,
     "input": [
      "a = np.asarray(  [1.2, 12, 13, 0.4, .9, 2, 10, 8, 1.3, 1.1])\n",
      "spik = a > 9 # get the max\n",
      "lspik = a > 7 # get the max\n",
      "hspik = fq.add_histeresis(a, spik, lspik, hthres=2.)\n"
     ],
     "language": "python",
     "metadata": {},
     "outputs": [],
     "prompt_number": 43
    },
    {
     "cell_type": "code",
     "collapsed": false,
     "input": [
      "hspik"
     ],
     "language": "python",
     "metadata": {},
     "outputs": [
      {
       "metadata": {},
       "output_type": "pyout",
       "prompt_number": 44,
       "text": [
        "array([False, False, False, False, False, False, False,  True, False, False], dtype=bool)"
       ]
      }
     ],
     "prompt_number": 44
    },
    {
     "cell_type": "code",
     "collapsed": false,
     "input": [
      "tq.test_spikes_from_slice_diff()"
     ],
     "language": "python",
     "metadata": {},
     "outputs": [
      {
       "output_type": "stream",
       "stream": "stdout",
       "text": [
        "entering spikes from slices\n",
        "found  2 spike(s) at sl 0 \n",
        " spikes : [0 0 0 0 0 0 1 1 0 0]\n",
        "found  2 spike(s) at sl 1 \n",
        " spikes : [0 1 1 0 0 0 0 0 0 0]\n",
        "found  0 spike(s) at sl 2 \n",
        " spikes : [0 0 0 0 0 0 0 0 0 0]\n",
        "\n",
        " spik \n",
        " [[0 0 0]\n",
        " [0 1 0]\n",
        " [0 1 0]\n",
        " [0 0 0]\n",
        " [0 0 0]\n",
        " [0 0 0]\n",
        " [1 0 0]\n",
        " [1 0 0]\n",
        " [0 0 0]\n",
        " [0 0 0]]\n"
       ]
      }
     ],
     "prompt_number": 46
    }
   ],
   "metadata": {}
  }
 ]
}